{
 "cells": [
  {
   "cell_type": "markdown",
   "id": "solved-driving",
   "metadata": {},
   "source": [
    "## Model 1: Random Forest / Decision Tree"
   ]
  },
  {
   "cell_type": "code",
   "execution_count": null,
   "id": "silent-survivor",
   "metadata": {},
   "outputs": [],
   "source": [
    "# Update sklearn\n",
    "#!pip install sklearn --upgrade\n",
    "# Install joblib\n",
    "#!pip install joblib"
   ]
  },
  {
   "cell_type": "code",
   "execution_count": null,
   "id": "demonstrated-satellite",
   "metadata": {},
   "outputs": [],
   "source": [
    "# Import dependencies\n",
    "import pandas as pd\n",
    "\n",
    "from sklearn.model_selection import train_test_split\n",
    "from sklearn.preprocessing import LabelEncoder, MinMaxScaler\n",
    "\n",
    "from tensorflow.keras.utils import to_categorical\n",
    "from tensorflow.keras.models import Sequential\n",
    "from tensorflow.keras.layers import Dense"
   ]
  },
  {
   "cell_type": "code",
   "execution_count": null,
   "id": "finnish-tactics",
   "metadata": {},
   "outputs": [],
   "source": [
    "# Load in exoplanet data\n",
    "planets_df = pd.read_csv(\"resources/exoplanet_data.csv\")\n",
    "planets_df"
   ]
  },
  {
   "cell_type": "code",
   "execution_count": null,
   "id": "sophisticated-variation",
   "metadata": {},
   "outputs": [],
   "source": [
    "# Show all columns\n",
    "planets_df.columns"
   ]
  },
  {
   "cell_type": "code",
   "execution_count": null,
   "id": "statistical-teaching",
   "metadata": {},
   "outputs": [],
   "source": [
    "# Drop null columns & rows\n",
    "planets_df = planets_df.dropna(axis='columns', how='all')\n",
    "planets_df = planets_df.dropna(how=\"any\")\n",
    "planets_df"
   ]
  },
  {
   "cell_type": "markdown",
   "id": "driven-orbit",
   "metadata": {},
   "source": [
    "## Select Features"
   ]
  },
  {
   "cell_type": "code",
   "execution_count": null,
   "id": "still-captain",
   "metadata": {},
   "outputs": [],
   "source": [
    "# Define X\n",
    "X = planets_df.drop(\"koi_disposition\", axis=1)\n",
    "# Define y\n",
    "y = planets_df[\"koi_disposition\"]\n",
    "print(X.shape, y.shape)"
   ]
  },
  {
   "cell_type": "code",
   "execution_count": null,
   "id": "meaning-spanking",
   "metadata": {},
   "outputs": [],
   "source": [
    "# Feature selection & remove unnecessary features (feature importance below 0)\n",
    "X = planets_df.drop(['koi_disposition', 'koi_srad', 'koi_steff', 'koi_slogg', 'koi_slogg_err1', 'koi_srad_err2', 'koi_tce_plnt_num'], axis=1)\n",
    "print(X.shape)\n"
   ]
  },
  {
   "cell_type": "markdown",
   "id": "featured-marketplace",
   "metadata": {},
   "source": [
    "## Pre-Processing"
   ]
  },
  {
   "cell_type": "markdown",
   "id": "lesbian-charlotte",
   "metadata": {},
   "source": [
    "## Train, Test, Split"
   ]
  },
  {
   "cell_type": "code",
   "execution_count": null,
   "id": "sonic-mystery",
   "metadata": {},
   "outputs": [],
   "source": [
    "# Separate the data into training & testing data\n",
    "X_train, X_test, y_train, y_test = train_test_split(X, y, random_state = 42)"
   ]
  },
  {
   "cell_type": "code",
   "execution_count": null,
   "id": "handmade-choice",
   "metadata": {},
   "outputs": [],
   "source": [
    "# Show rows for training\n",
    "X_train"
   ]
  },
  {
   "cell_type": "markdown",
   "id": "turkish-compression",
   "metadata": {},
   "source": [
    "### Min Max Scaler (x)"
   ]
  },
  {
   "cell_type": "code",
   "execution_count": null,
   "id": "choice-asthma",
   "metadata": {},
   "outputs": [],
   "source": [
    "# MinMaxScaler: scale the numerical data\n",
    "# Define the scaler\n",
    "X_scaler = MinMaxScaler().fit(X_train)\n",
    "\n",
    "# Transform x train & test (with scaler)\n",
    "X_train_scaled = X_scaler.transform(X_train)\n",
    "X_test_scaled = X_scaler.transform(X_test)"
   ]
  },
  {
   "cell_type": "markdown",
   "id": "exposed-second",
   "metadata": {},
   "source": [
    "### One Hot Encoding (y)"
   ]
  },
  {
   "cell_type": "markdown",
   "id": "fifteen-bacon",
   "metadata": {},
   "source": [
    "### Canidate: 0\n",
    "### Confirmed: 1\n",
    "### False Positive: 2"
   ]
  },
  {
   "cell_type": "code",
   "execution_count": null,
   "id": "returning-manner",
   "metadata": {},
   "outputs": [],
   "source": [
    "# Encode labels for y: \"KOI disposition\"\n",
    "label_encoder = LabelEncoder()\n",
    "\n",
    "# Train the encoder\n",
    "label_encoder.fit(y_train)\n",
    "\n",
    "# Encoded y train & test\n",
    "encoded_y_train = label_encoder.transform(y_train)\n",
    "encoded_y_test = label_encoder.transform(y_test)"
   ]
  },
  {
   "cell_type": "code",
   "execution_count": null,
   "id": "finite-infection",
   "metadata": {},
   "outputs": [],
   "source": [
    "# One hot encoding\n",
    "y_train_categorical = to_categorical(encoded_y_train)\n",
    "y_test_categorical = to_categorical(encoded_y_test)"
   ]
  },
  {
   "cell_type": "code",
   "execution_count": null,
   "id": "passive-router",
   "metadata": {},
   "outputs": [],
   "source": [
    "# See the categories\n",
    "y_train_categorical"
   ]
  },
  {
   "cell_type": "markdown",
   "id": "equivalent-hindu",
   "metadata": {},
   "source": [
    "### Random Forest:"
   ]
  },
  {
   "cell_type": "code",
   "execution_count": null,
   "id": "qualified-surprise",
   "metadata": {},
   "outputs": [],
   "source": [
    "from sklearn.ensemble import RandomForestClassifier\n",
    "# Random Forest Classifier\n",
    "rf = RandomForestClassifier(n_estimators=400)\n",
    "# Fit the model\n",
    "rf = rf.fit(X_train_scaled, y_train)\n",
    "# Score the model\n",
    "print(\"Training Score: \", rf.score(X_train_scaled, y_train))\n",
    "print(\"Testing Score: \", rf.score(X_test_scaled, y_test))"
   ]
  },
  {
   "cell_type": "code",
   "execution_count": null,
   "id": "acute-cornell",
   "metadata": {},
   "outputs": [],
   "source": [
    "# Print out success report of features\n",
    "feature_names = X.columns\n",
    "sorted(zip(rf.feature_importances_, feature_names), reverse=True)"
   ]
  },
  {
   "cell_type": "code",
   "execution_count": null,
   "id": "liked-integral",
   "metadata": {},
   "outputs": [],
   "source": [
    "# # Loop through to show original class & label\n",
    "# for label, original_class in zip(encoded_y, y):\n",
    "#     print('Original Class: ' + str(original_class))\n",
    "#     print('Encoded Label: ' + str(label))\n",
    "#     print('-' * 12)"
   ]
  },
  {
   "cell_type": "markdown",
   "id": "round-shakespeare",
   "metadata": {},
   "source": [
    "## Train the Model"
   ]
  },
  {
   "cell_type": "markdown",
   "id": "married-advantage",
   "metadata": {},
   "source": [
    "## Hyperparameter Tuning"
   ]
  },
  {
   "cell_type": "code",
   "execution_count": null,
   "id": "hispanic-steering",
   "metadata": {},
   "outputs": [],
   "source": [
    "# GridSearchCV: tune model parameters\n",
    "from sklearn.model_selection import GridSearchCV\n",
    "\n",
    "parameters = { 'n_estimators': [100, 200, 300, 400, 500]}\n",
    "grid = GridSearchCV(rf, parameters, verbose=3)"
   ]
  },
  {
   "cell_type": "code",
   "execution_count": null,
   "id": "adequate-storage",
   "metadata": {},
   "outputs": [],
   "source": [
    "# Train the model with GridSearch\n",
    "grid.fit(X_train_scaled, y_train)"
   ]
  },
  {
   "cell_type": "code",
   "execution_count": null,
   "id": "micro-living",
   "metadata": {},
   "outputs": [],
   "source": [
    "# Print out results\n",
    "print(\"Best Parameters: \", grid.best_params_)\n",
    "print(\"Best Score: \", grid.best_score_)"
   ]
  },
  {
   "cell_type": "code",
   "execution_count": null,
   "id": "binding-component",
   "metadata": {},
   "outputs": [],
   "source": [
    "# Predict with test data\n",
    "predictions = grid.predict(X_test_scaled)"
   ]
  },
  {
   "cell_type": "code",
   "execution_count": null,
   "id": "perfect-spray",
   "metadata": {},
   "outputs": [],
   "source": [
    "# Classification Report\n",
    "from sklearn.metrics import classification_report\n",
    "print(classification_report(y_test, predictions,\n",
    "                            target_names=[\"Candidate\", \"Confirmed\", \"False Positive\"]))"
   ]
  },
  {
   "cell_type": "markdown",
   "id": "lucky-airline",
   "metadata": {},
   "source": [
    "## Save the Model"
   ]
  },
  {
   "cell_type": "code",
   "execution_count": null,
   "id": "employed-wonder",
   "metadata": {},
   "outputs": [],
   "source": [
    "import joblib\n",
    "filename = 'models/julia_brunett.sav'\n",
    "joblib.dump(grid, filename)"
   ]
  },
  {
   "cell_type": "code",
   "execution_count": null,
   "id": "attempted-importance",
   "metadata": {},
   "outputs": [],
   "source": [
    "# Load the model\n",
    "exoplanets_model = joblib.load(\"models/julia_brunett.sav\")"
   ]
  },
  {
   "cell_type": "code",
   "execution_count": null,
   "id": "diverse-selling",
   "metadata": {},
   "outputs": [],
   "source": [
    "exoplanets_model.score(X_test_scaled, y_test)"
   ]
  },
  {
   "cell_type": "code",
   "execution_count": null,
   "id": "searching-construction",
   "metadata": {},
   "outputs": [],
   "source": [
    "grid.score(X_test_scaled, y_test)"
   ]
  },
  {
   "cell_type": "code",
   "execution_count": null,
   "id": "first-borough",
   "metadata": {},
   "outputs": [],
   "source": [
    "rf.score(X_test_scaled, y_test)"
   ]
  },
  {
   "cell_type": "code",
   "execution_count": null,
   "id": "specified-majority",
   "metadata": {},
   "outputs": [],
   "source": []
  }
 ],
 "metadata": {
  "kernelspec": {
   "display_name": "Python [conda env:PythonAdv]",
   "language": "python",
   "name": "conda-env-PythonAdv-py"
  },
  "language_info": {
   "codemirror_mode": {
    "name": "ipython",
    "version": 3
   },
   "file_extension": ".py",
   "mimetype": "text/x-python",
   "name": "python",
   "nbconvert_exporter": "python",
   "pygments_lexer": "ipython3",
   "version": "3.6.13"
  }
 },
 "nbformat": 4,
 "nbformat_minor": 5
}
