{
 "cells": [
  {
   "cell_type": "code",
   "execution_count": null,
   "id": "silent-survivor",
   "metadata": {},
   "outputs": [],
   "source": [
    "# Update sklearn\n",
    "#!pip install sklearn --upgrade\n",
    "# Install joblib\n",
    "#!pip install joblib"
   ]
  },
  {
   "cell_type": "code",
   "execution_count": null,
   "id": "demonstrated-satellite",
   "metadata": {},
   "outputs": [],
   "source": [
    "# Import dependencies\n",
    "import pandas as pd\n",
    "\n",
    "from sklearn.model_selection import train_test_split\n",
    "from sklearn.preprocessing import LabelEncoder, MinMaxScaler\n",
    "\n",
    "from tensorflow.keras.utils import to_categorical\n",
    "from tensorflow.keras.models import Sequential\n",
    "from tensorflow.keras.layers import Dense\n",
    "from keras.wrappers.scikit_learn import KerasClassifier"
   ]
  },
  {
   "cell_type": "code",
   "execution_count": null,
   "id": "finnish-tactics",
   "metadata": {},
   "outputs": [],
   "source": [
    "# Load in exoplanet data\n",
    "planets_df = pd.read_csv(\"resources/exoplanet_data.csv\")\n",
    "planets_df"
   ]
  },
  {
   "cell_type": "code",
   "execution_count": null,
   "id": "sophisticated-variation",
   "metadata": {},
   "outputs": [],
   "source": [
    "# Show all columns\n",
    "planets_df.columns"
   ]
  },
  {
   "cell_type": "code",
   "execution_count": null,
   "id": "incomplete-aging",
   "metadata": {},
   "outputs": [],
   "source": [
    "# # Drop unneccessary columns\n",
    "# planets_df = planets_df[['koi_disposition', 'koi_fpflag_nt', 'koi_fpflag_ss', 'koi_fpflag_co',\n",
    "#         'koi_fpflag_ec', 'koi_period','koi_time0bk', 'koi_impact','koi_duration', 'koi_depth', \n",
    "#         'koi_prad','koi_teq', 'koi_insol','koi_model_snr', 'koi_tce_plnt_num', 'koi_steff', \n",
    "#         'koi_slogg', 'koi_srad', 'ra', 'dec', 'koi_kepmag']]\n"
   ]
  },
  {
   "cell_type": "code",
   "execution_count": null,
   "id": "statistical-teaching",
   "metadata": {},
   "outputs": [],
   "source": [
    "# Drop null columns & rows\n",
    "planets_df = planets_df.dropna(axis='columns', how='all')\n",
    "planets_df = planets_df.dropna(how=\"any\")\n",
    "planets_df"
   ]
  },
  {
   "cell_type": "markdown",
   "id": "driven-orbit",
   "metadata": {},
   "source": [
    "## Select Features"
   ]
  },
  {
   "cell_type": "code",
   "execution_count": null,
   "id": "still-captain",
   "metadata": {},
   "outputs": [],
   "source": [
    "X = planets_df.drop(\"koi_disposition\", axis=1)\n",
    "# X = planets_df[['koi_fpflag_co', 'koi_fpflag_nt', 'koi_fpflag_ss', 'koi_model_snr', 'koi_prad', 'koi_fpflag_ec']]\n",
    "y = planets_df[\"koi_disposition\"]\n",
    "print(X.shape, y.shape)"
   ]
  },
  {
   "cell_type": "code",
   "execution_count": null,
   "id": "incident-least",
   "metadata": {},
   "outputs": [],
   "source": [
    "# Feature selection & remove unnecessary features (feature importance below 0)\n",
    "X = planets_df.drop(['koi_disposition', 'koi_srad', 'koi_steff', 'koi_slogg', 'koi_slogg_err1', 'koi_srad_err2', 'koi_tce_plnt_num'], axis=1)\n",
    "print(X.shape)\n"
   ]
  },
  {
   "cell_type": "markdown",
   "id": "lesbian-charlotte",
   "metadata": {},
   "source": [
    "## Train, Test, Split"
   ]
  },
  {
   "cell_type": "code",
   "execution_count": null,
   "id": "sonic-mystery",
   "metadata": {},
   "outputs": [],
   "source": [
    "# Separate the data into training & testing data\n",
    "X_train, X_test, y_train, y_test = train_test_split(X, y, random_state = 42)"
   ]
  },
  {
   "cell_type": "code",
   "execution_count": null,
   "id": "handmade-choice",
   "metadata": {},
   "outputs": [],
   "source": [
    "# Show rows for training\n",
    "X_train"
   ]
  },
  {
   "cell_type": "markdown",
   "id": "featured-marketplace",
   "metadata": {},
   "source": [
    "## Pre-Processing"
   ]
  },
  {
   "cell_type": "markdown",
   "id": "cardiac-wealth",
   "metadata": {},
   "source": [
    "### Min Max Scaler (x)"
   ]
  },
  {
   "cell_type": "code",
   "execution_count": null,
   "id": "choice-asthma",
   "metadata": {},
   "outputs": [],
   "source": [
    "# MinMaxScaler: scale the numerical data\n",
    "# Define the scaler\n",
    "X_scaler = MinMaxScaler().fit(X_train)\n",
    "\n",
    "# Transform x train & test (with scaler)\n",
    "X_train_scaled = X_scaler.transform(X_train)\n",
    "X_test_scaled = X_scaler.transform(X_test)"
   ]
  },
  {
   "cell_type": "markdown",
   "id": "compressed-identifier",
   "metadata": {},
   "source": [
    "### One Hot Encoding (y)"
   ]
  },
  {
   "cell_type": "code",
   "execution_count": null,
   "id": "returning-manner",
   "metadata": {},
   "outputs": [],
   "source": [
    "# Encode labels for y: \"KOI disposition\"\n",
    "label_encoder = LabelEncoder()\n",
    "\n",
    "# Train the encoder\n",
    "label_encoder.fit(y_train)\n",
    "\n",
    "# Encoded y train & test\n",
    "encoded_y_train = label_encoder.transform(y_train)\n",
    "encoded_y_test = label_encoder.transform(y_test)"
   ]
  },
  {
   "cell_type": "code",
   "execution_count": null,
   "id": "finite-infection",
   "metadata": {},
   "outputs": [],
   "source": [
    "# One hot encoding\n",
    "y_train_categorical = to_categorical(encoded_y_train)\n",
    "y_test_categorical = to_categorical(encoded_y_test)"
   ]
  },
  {
   "cell_type": "code",
   "execution_count": null,
   "id": "technical-consultation",
   "metadata": {},
   "outputs": [],
   "source": [
    "# See the categories\n",
    "y_train_categorical"
   ]
  },
  {
   "cell_type": "code",
   "execution_count": null,
   "id": "meaning-spanking",
   "metadata": {},
   "outputs": [],
   "source": [
    "# Feature selection & remove unnecessary features\n"
   ]
  },
  {
   "cell_type": "markdown",
   "id": "fifteen-bacon",
   "metadata": {},
   "source": [
    "### Canidate: 0\n",
    "### Confirmed: 1\n",
    "### False Positive: 2"
   ]
  },
  {
   "cell_type": "code",
   "execution_count": null,
   "id": "liked-integral",
   "metadata": {},
   "outputs": [],
   "source": [
    "# # Loop through to show original class & label\n",
    "# for label, original_class in zip(encoded_y, y):\n",
    "#     print('Original Class: ' + str(original_class))\n",
    "#     print('Encoded Label: ' + str(label))\n",
    "#     print('-' * 12)"
   ]
  },
  {
   "cell_type": "markdown",
   "id": "round-shakespeare",
   "metadata": {},
   "source": [
    "## Train the Model"
   ]
  },
  {
   "cell_type": "markdown",
   "id": "planned-counter",
   "metadata": {},
   "source": [
    "### Deep Learning Model:"
   ]
  },
  {
   "cell_type": "code",
   "execution_count": null,
   "id": "hundred-stack",
   "metadata": {},
   "outputs": [],
   "source": [
    "# Create model\n",
    "def createModel():\n",
    "    model = Sequential()\n",
    "    # Input layer\n",
    "    model.add(Dense(100, activation='relu', input_dim=X_train.shape[1]))\n",
    "    # Second hidden layer\n",
    "    model.add(Dense(100, activation='relu'))\n",
    "    # Output layer\n",
    "    model.add(Dense(y_train_categorical.shape[1], activation='softmax'))\n",
    "    # Compile the model\n",
    "    model.compile(optimizer='adam',\n",
    "          loss='categorical_crossentropy',\n",
    "          metrics=['accuracy'])\n",
    "    # Print out the model summary\n",
    "#     model.summary()\n",
    "    return model"
   ]
  },
  {
   "cell_type": "code",
   "execution_count": null,
   "id": "irish-detroit",
   "metadata": {},
   "outputs": [],
   "source": [
    "# Find the shape of the y_train (categorical)\n",
    "y_train_categorical.shape"
   ]
  },
  {
   "cell_type": "code",
   "execution_count": null,
   "id": "reported-trail",
   "metadata": {},
   "outputs": [],
   "source": [
    "# # Output layer\n",
    "# model.add(Dense(y_train_categorical.shape[1], activation='softmax'))"
   ]
  },
  {
   "cell_type": "code",
   "execution_count": null,
   "id": "flush-factor",
   "metadata": {},
   "outputs": [],
   "source": [
    "# # Print out the model summary\n",
    "# model.summary()"
   ]
  },
  {
   "cell_type": "code",
   "execution_count": null,
   "id": "adjustable-application",
   "metadata": {},
   "outputs": [],
   "source": [
    "# # Fit/Train the model\n",
    "# model.fit(\n",
    "#     X_train_scaled,\n",
    "#     y_train_categorical,\n",
    "#     epochs=100,\n",
    "#     shuffle=True,\n",
    "#     verbose=2\n",
    "# )"
   ]
  },
  {
   "cell_type": "code",
   "execution_count": null,
   "id": "pregnant-theorem",
   "metadata": {},
   "outputs": [],
   "source": [
    "model = KerasClassifier(build_fn=createModel, verbose=0)"
   ]
  },
  {
   "cell_type": "code",
   "execution_count": null,
   "id": "surprising-tutorial",
   "metadata": {},
   "outputs": [],
   "source": [
    "model_loss, model_accuracy = model.evaluate(\n",
    "    X_test_scaled, y_test_categorical, verbose=2)\n",
    "print(f\"Loss: {model_loss}, Accuracy: {model_accuracy}\")"
   ]
  },
  {
   "cell_type": "markdown",
   "id": "married-advantage",
   "metadata": {},
   "source": [
    "## Hyperparameter Tuning"
   ]
  },
  {
   "cell_type": "code",
   "execution_count": null,
   "id": "hispanic-steering",
   "metadata": {},
   "outputs": [],
   "source": [
    "# GridSearchCV: tune model parameters\n",
    "from sklearn.model_selection import GridSearchCV\n",
    "parameters = {'epochs': [50 , 100, 150]}\n",
    "grid = GridSearchCV(model, parameters, verbose=3)"
   ]
  },
  {
   "cell_type": "code",
   "execution_count": null,
   "id": "adequate-storage",
   "metadata": {},
   "outputs": [],
   "source": [
    "# Train the model with GridSearch\n",
    "grid.fit(X_train_scaled, y_train_categorical)"
   ]
  },
  {
   "cell_type": "code",
   "execution_count": null,
   "id": "micro-living",
   "metadata": {},
   "outputs": [],
   "source": [
    "print(grid.best_params_)"
   ]
  },
  {
   "cell_type": "code",
   "execution_count": null,
   "id": "operating-defense",
   "metadata": {},
   "outputs": [],
   "source": [
    "print(grid.best_score_)"
   ]
  },
  {
   "cell_type": "code",
   "execution_count": null,
   "id": "hybrid-detector",
   "metadata": {},
   "outputs": [],
   "source": [
    "new_model = Sequential()\n",
    "# Input layer\n",
    "new_model.add(Dense(100, activation='relu', input_dim=X_train.shape[1]))\n",
    "# Second hidden layer\n",
    "new_model.add(Dense(100, activation='relu'))\n",
    "# Output layer\n",
    "new_model.add(Dense(y_train_categorical.shape[1], activation='softmax'))\n",
    "# Compile the model\n",
    "new_model.compile(optimizer='adam',\n",
    "      loss='categorical_crossentropy',\n",
    "      metrics=['accuracy'])\n",
    "new_model.fit(\n",
    "    X_train_scaled,\n",
    "    y_train_categorical,\n",
    "    epochs=150,\n",
    "    shuffle=True,\n",
    "    verbose=2\n",
    ")"
   ]
  },
  {
   "cell_type": "code",
   "execution_count": null,
   "id": "binding-component",
   "metadata": {},
   "outputs": [],
   "source": [
    "predictions = new_model.predict(X_test)"
   ]
  },
  {
   "cell_type": "code",
   "execution_count": null,
   "id": "perfect-spray",
   "metadata": {},
   "outputs": [],
   "source": [
    "from sklearn.metrics import classification_report\n",
    "print(classification_report(y_test, predictions,\n",
    "                            target_names=[\"Candidate\", \"Confirmed\", \"False Positive\"]))"
   ]
  },
  {
   "cell_type": "markdown",
   "id": "lucky-airline",
   "metadata": {},
   "source": [
    "## Save the Model"
   ]
  },
  {
   "cell_type": "code",
   "execution_count": null,
   "id": "employed-wonder",
   "metadata": {},
   "outputs": [],
   "source": [
    "import joblib\n",
    "filename = 'models/julia_brunett.sav'\n",
    "joblib.dump(model, filename)"
   ]
  },
  {
   "cell_type": "code",
   "execution_count": null,
   "id": "dress-headset",
   "metadata": {},
   "outputs": [],
   "source": [
    "# Save the model\n",
    "model.save(\"models/exoplanets.h5\")"
   ]
  },
  {
   "cell_type": "code",
   "execution_count": null,
   "id": "musical-antarctica",
   "metadata": {},
   "outputs": [],
   "source": []
  }
 ],
 "metadata": {
  "kernelspec": {
   "display_name": "Python [conda env:PythonAdv]",
   "language": "python",
   "name": "conda-env-PythonAdv-py"
  },
  "language_info": {
   "codemirror_mode": {
    "name": "ipython",
    "version": 3
   },
   "file_extension": ".py",
   "mimetype": "text/x-python",
   "name": "python",
   "nbconvert_exporter": "python",
   "pygments_lexer": "ipython3",
   "version": "3.6.13"
  }
 },
 "nbformat": 4,
 "nbformat_minor": 5
}
